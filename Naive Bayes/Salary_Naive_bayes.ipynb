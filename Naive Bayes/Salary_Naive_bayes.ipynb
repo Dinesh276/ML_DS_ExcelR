{
 "cells": [
  {
   "cell_type": "markdown",
   "metadata": {},
   "source": [
    "### Prepare a classification model using Naive Bayes for salary data    \n",
    "      \n",
    "Data Description:  \n",
    "     \n",
    "age -- age of a person  \n",
    "workclass\t-- A work class is a grouping of work    \n",
    "education\t-- Education of an individuals\t    \n",
    "maritalstatus -- Marital status of an individulas\t        \n",
    "occupation\t -- occupation of an individuals        \n",
    "relationship -- \t          \n",
    "race --  Race of an Individual                 \n",
    "sex --  Gender of an Individual                                   \n",
    "capitalgain --  profit received from the sale of an investment\t       \n",
    "capitalloss\t-- A decrease in the value of a capital asset          \n",
    "hoursperweek -- number of hours work per week\t         \n",
    "native -- Native of an individual      \n",
    "Salary -- salary of an individual     \n",
    "   "
   ]
  },
  {
   "cell_type": "code",
   "execution_count": 234,
   "metadata": {
    "ExecuteTime": {
     "end_time": "2021-04-25T07:51:57.162834Z",
     "start_time": "2021-04-25T07:51:57.140635Z"
    }
   },
   "outputs": [],
   "source": [
    "import numpy as np\n",
    "import matplotlib.pyplot as plt\n",
    "import pandas as pd\n",
    "import seaborn as sns"
   ]
  },
  {
   "cell_type": "code",
   "execution_count": 235,
   "metadata": {
    "ExecuteTime": {
     "end_time": "2021-04-25T07:51:57.555649Z",
     "start_time": "2021-04-25T07:51:57.168839Z"
    }
   },
   "outputs": [],
   "source": [
    "df=pd.read_csv('SalaryData_Train.csv')\n",
    "mf=pd.read_csv('SalaryData_Test.csv')"
   ]
  },
  {
   "cell_type": "code",
   "execution_count": 236,
   "metadata": {
    "ExecuteTime": {
     "end_time": "2021-04-25T07:51:57.584010Z",
     "start_time": "2021-04-25T07:51:57.555649Z"
    }
   },
   "outputs": [
    {
     "data": {
      "text/html": [
       "<div>\n",
       "<style scoped>\n",
       "    .dataframe tbody tr th:only-of-type {\n",
       "        vertical-align: middle;\n",
       "    }\n",
       "\n",
       "    .dataframe tbody tr th {\n",
       "        vertical-align: top;\n",
       "    }\n",
       "\n",
       "    .dataframe thead th {\n",
       "        text-align: right;\n",
       "    }\n",
       "</style>\n",
       "<table border=\"1\" class=\"dataframe\">\n",
       "  <thead>\n",
       "    <tr style=\"text-align: right;\">\n",
       "      <th></th>\n",
       "      <th>age</th>\n",
       "      <th>workclass</th>\n",
       "      <th>education</th>\n",
       "      <th>educationno</th>\n",
       "      <th>maritalstatus</th>\n",
       "      <th>occupation</th>\n",
       "      <th>relationship</th>\n",
       "      <th>race</th>\n",
       "      <th>sex</th>\n",
       "      <th>capitalgain</th>\n",
       "      <th>capitalloss</th>\n",
       "      <th>hoursperweek</th>\n",
       "      <th>native</th>\n",
       "      <th>Salary</th>\n",
       "    </tr>\n",
       "  </thead>\n",
       "  <tbody>\n",
       "    <tr>\n",
       "      <th>0</th>\n",
       "      <td>39</td>\n",
       "      <td>State-gov</td>\n",
       "      <td>Bachelors</td>\n",
       "      <td>13</td>\n",
       "      <td>Never-married</td>\n",
       "      <td>Adm-clerical</td>\n",
       "      <td>Not-in-family</td>\n",
       "      <td>White</td>\n",
       "      <td>Male</td>\n",
       "      <td>2174</td>\n",
       "      <td>0</td>\n",
       "      <td>40</td>\n",
       "      <td>United-States</td>\n",
       "      <td>&lt;=50K</td>\n",
       "    </tr>\n",
       "    <tr>\n",
       "      <th>1</th>\n",
       "      <td>50</td>\n",
       "      <td>Self-emp-not-inc</td>\n",
       "      <td>Bachelors</td>\n",
       "      <td>13</td>\n",
       "      <td>Married-civ-spouse</td>\n",
       "      <td>Exec-managerial</td>\n",
       "      <td>Husband</td>\n",
       "      <td>White</td>\n",
       "      <td>Male</td>\n",
       "      <td>0</td>\n",
       "      <td>0</td>\n",
       "      <td>13</td>\n",
       "      <td>United-States</td>\n",
       "      <td>&lt;=50K</td>\n",
       "    </tr>\n",
       "    <tr>\n",
       "      <th>2</th>\n",
       "      <td>38</td>\n",
       "      <td>Private</td>\n",
       "      <td>HS-grad</td>\n",
       "      <td>9</td>\n",
       "      <td>Divorced</td>\n",
       "      <td>Handlers-cleaners</td>\n",
       "      <td>Not-in-family</td>\n",
       "      <td>White</td>\n",
       "      <td>Male</td>\n",
       "      <td>0</td>\n",
       "      <td>0</td>\n",
       "      <td>40</td>\n",
       "      <td>United-States</td>\n",
       "      <td>&lt;=50K</td>\n",
       "    </tr>\n",
       "    <tr>\n",
       "      <th>3</th>\n",
       "      <td>53</td>\n",
       "      <td>Private</td>\n",
       "      <td>11th</td>\n",
       "      <td>7</td>\n",
       "      <td>Married-civ-spouse</td>\n",
       "      <td>Handlers-cleaners</td>\n",
       "      <td>Husband</td>\n",
       "      <td>Black</td>\n",
       "      <td>Male</td>\n",
       "      <td>0</td>\n",
       "      <td>0</td>\n",
       "      <td>40</td>\n",
       "      <td>United-States</td>\n",
       "      <td>&lt;=50K</td>\n",
       "    </tr>\n",
       "    <tr>\n",
       "      <th>4</th>\n",
       "      <td>28</td>\n",
       "      <td>Private</td>\n",
       "      <td>Bachelors</td>\n",
       "      <td>13</td>\n",
       "      <td>Married-civ-spouse</td>\n",
       "      <td>Prof-specialty</td>\n",
       "      <td>Wife</td>\n",
       "      <td>Black</td>\n",
       "      <td>Female</td>\n",
       "      <td>0</td>\n",
       "      <td>0</td>\n",
       "      <td>40</td>\n",
       "      <td>Cuba</td>\n",
       "      <td>&lt;=50K</td>\n",
       "    </tr>\n",
       "  </tbody>\n",
       "</table>\n",
       "</div>"
      ],
      "text/plain": [
       "   age          workclass   education  educationno        maritalstatus  \\\n",
       "0   39          State-gov   Bachelors           13        Never-married   \n",
       "1   50   Self-emp-not-inc   Bachelors           13   Married-civ-spouse   \n",
       "2   38            Private     HS-grad            9             Divorced   \n",
       "3   53            Private        11th            7   Married-civ-spouse   \n",
       "4   28            Private   Bachelors           13   Married-civ-spouse   \n",
       "\n",
       "           occupation    relationship    race      sex  capitalgain  \\\n",
       "0        Adm-clerical   Not-in-family   White     Male         2174   \n",
       "1     Exec-managerial         Husband   White     Male            0   \n",
       "2   Handlers-cleaners   Not-in-family   White     Male            0   \n",
       "3   Handlers-cleaners         Husband   Black     Male            0   \n",
       "4      Prof-specialty            Wife   Black   Female            0   \n",
       "\n",
       "   capitalloss  hoursperweek          native  Salary  \n",
       "0            0            40   United-States   <=50K  \n",
       "1            0            13   United-States   <=50K  \n",
       "2            0            40   United-States   <=50K  \n",
       "3            0            40   United-States   <=50K  \n",
       "4            0            40            Cuba   <=50K  "
      ]
     },
     "execution_count": 236,
     "metadata": {},
     "output_type": "execute_result"
    }
   ],
   "source": [
    "df.head()"
   ]
  },
  {
   "cell_type": "code",
   "execution_count": 237,
   "metadata": {
    "ExecuteTime": {
     "end_time": "2021-04-25T07:51:57.718495Z",
     "start_time": "2021-04-25T07:51:57.592016Z"
    }
   },
   "outputs": [
    {
     "data": {
      "text/plain": [
       "(age              0\n",
       " workclass        0\n",
       " education        0\n",
       " educationno      0\n",
       " maritalstatus    0\n",
       " occupation       0\n",
       " relationship     0\n",
       " race             0\n",
       " sex              0\n",
       " capitalgain      0\n",
       " capitalloss      0\n",
       " hoursperweek     0\n",
       " native           0\n",
       " Salary           0\n",
       " dtype: int64,\n",
       " age              0\n",
       " workclass        0\n",
       " education        0\n",
       " educationno      0\n",
       " maritalstatus    0\n",
       " occupation       0\n",
       " relationship     0\n",
       " race             0\n",
       " sex              0\n",
       " capitalgain      0\n",
       " capitalloss      0\n",
       " hoursperweek     0\n",
       " native           0\n",
       " Salary           0\n",
       " dtype: int64)"
      ]
     },
     "execution_count": 237,
     "metadata": {},
     "output_type": "execute_result"
    }
   ],
   "source": [
    "df.isna().sum(),mf.isna().sum()\n"
   ]
  },
  {
   "cell_type": "markdown",
   "metadata": {},
   "source": [
    "__NO NULL VALUES__"
   ]
  },
  {
   "cell_type": "code",
   "execution_count": 238,
   "metadata": {
    "ExecuteTime": {
     "end_time": "2021-04-25T07:51:57.832466Z",
     "start_time": "2021-04-25T07:51:57.722497Z"
    }
   },
   "outputs": [
    {
     "name": "stdout",
     "output_type": "stream",
     "text": [
      "Data type of Traning Dataset\n",
      "age               int64\n",
      "workclass        object\n",
      "education        object\n",
      "educationno       int64\n",
      "maritalstatus    object\n",
      "occupation       object\n",
      "relationship     object\n",
      "race             object\n",
      "sex              object\n",
      "capitalgain       int64\n",
      "capitalloss       int64\n",
      "hoursperweek      int64\n",
      "native           object\n",
      "Salary           object\n",
      "dtype: object\n",
      "\n",
      "Data type of Testng Dataset\n",
      "age               int64\n",
      "workclass        object\n",
      "education        object\n",
      "educationno       int64\n",
      "maritalstatus    object\n",
      "occupation       object\n",
      "relationship     object\n",
      "race             object\n",
      "sex              object\n",
      "capitalgain       int64\n",
      "capitalloss       int64\n",
      "hoursperweek      int64\n",
      "native           object\n",
      "Salary           object\n",
      "dtype: object\n"
     ]
    }
   ],
   "source": [
    "\n",
    "print('Data type of Traning Dataset')\n",
    "print(df.dtypes )\n",
    "print()\n",
    "print('Data type of Testng Dataset')\n",
    "\n",
    "print(mf.dtypes)\n"
   ]
  },
  {
   "cell_type": "code",
   "execution_count": 239,
   "metadata": {
    "ExecuteTime": {
     "end_time": "2021-04-25T07:51:57.960231Z",
     "start_time": "2021-04-25T07:51:57.841957Z"
    }
   },
   "outputs": [],
   "source": [
    "cat_df=[col for col in df.columns if (df[col].dtype=='object')]\n",
    "num_df=[col for col in df.columns if (df[col].dtype=='int64')]\n",
    "cat_mf=[col for col in df.columns if mf[col].dtype=='object']\n",
    "num_mf=[col for col in df.columns if mf[col].dtype=='int64']"
   ]
  },
  {
   "cell_type": "code",
   "execution_count": 240,
   "metadata": {
    "ExecuteTime": {
     "end_time": "2021-04-25T07:51:58.109485Z",
     "start_time": "2021-04-25T07:51:57.962719Z"
    }
   },
   "outputs": [
    {
     "name": "stdout",
     "output_type": "stream",
     "text": [
      "Categorical features in train data\n",
      "['workclass', 'education', 'maritalstatus', 'occupation', 'relationship', 'race', 'sex', 'native', 'Salary']\n",
      "\n",
      "Categorical features in test data\n",
      "['workclass', 'education', 'maritalstatus', 'occupation', 'relationship', 'race', 'sex', 'native', 'Salary']\n",
      "\n",
      "************************************************\n",
      "\n",
      "Numerical features in train data\n",
      "['age', 'educationno', 'capitalgain', 'capitalloss', 'hoursperweek']\n",
      "\n",
      "Numerical features in test data\n",
      "['age', 'educationno', 'capitalgain', 'capitalloss', 'hoursperweek']\n"
     ]
    }
   ],
   "source": [
    "print('Categorical features in train data')\n",
    "print(cat_df)\n",
    "print()\n",
    "print('Categorical features in test data')\n",
    "print(cat_mf)\n",
    "print()\n",
    "print('************************************************')\n",
    "print()\n",
    "print('Numerical features in train data')\n",
    "print(num_df)\n",
    "print()\n",
    "print('Numerical features in test data')\n",
    "print(num_mf)\n"
   ]
  },
  {
   "cell_type": "markdown",
   "metadata": {},
   "source": [
    "__CATEGORICAL AND NUMERICAL DATATYPES ARE PRESENT IN DATA__\n"
   ]
  },
  {
   "cell_type": "markdown",
   "metadata": {},
   "source": [
    "__All the Categories in each categorical features__ "
   ]
  },
  {
   "cell_type": "code",
   "execution_count": 241,
   "metadata": {
    "ExecuteTime": {
     "end_time": "2021-04-25T07:51:58.429124Z",
     "start_time": "2021-04-25T07:51:58.119915Z"
    },
    "scrolled": false
   },
   "outputs": [
    {
     "name": "stdout",
     "output_type": "stream",
     "text": [
      "*********************************\n",
      "\u001b[1mworkclass\u001b[0m\n",
      " Private             22285\n",
      " Self-emp-not-inc     2499\n",
      " Local-gov            2067\n",
      " State-gov            1279\n",
      " Self-emp-inc         1074\n",
      " Federal-gov           943\n",
      " Without-pay            14\n",
      "Name: workclass, dtype: int64\n",
      "-------\n",
      " Private             11021\n",
      " Self-emp-not-inc     1297\n",
      " Local-gov            1033\n",
      " State-gov             667\n",
      " Self-emp-inc          572\n",
      " Federal-gov           463\n",
      " Without-pay             7\n",
      "Name: workclass, dtype: int64\n",
      "___________________________________________\n",
      "Number of types in train data  :  7\n",
      "Number of types in test data   :  7\n",
      "___________________________________________\n",
      "\n",
      "*********************************\n",
      "\u001b[1meducation\u001b[0m\n",
      " HS-grad         9840\n",
      " Some-college    6677\n",
      " Bachelors       5044\n",
      " Masters         1627\n",
      " Assoc-voc       1307\n",
      " 11th            1048\n",
      " Assoc-acdm      1008\n",
      " 10th             820\n",
      " 7th-8th          557\n",
      " Prof-school      542\n",
      " 9th              455\n",
      " 12th             377\n",
      " Doctorate        375\n",
      " 5th-6th          288\n",
      " 1st-4th          151\n",
      " Preschool         45\n",
      "Name: education, dtype: int64\n",
      "-------\n",
      " HS-grad         4943\n",
      " Some-college    3221\n",
      " Bachelors       2526\n",
      " Masters          887\n",
      " Assoc-voc        652\n",
      " 11th             571\n",
      " Assoc-acdm       499\n",
      " 10th             403\n",
      " 7th-8th          266\n",
      " Prof-school      243\n",
      " 9th              221\n",
      " 12th             200\n",
      " Doctorate        169\n",
      " 5th-6th          161\n",
      " 1st-4th           71\n",
      " Preschool         27\n",
      "Name: education, dtype: int64\n",
      "___________________________________________\n",
      "Number of types in train data  :  16\n",
      "Number of types in test data   :  16\n",
      "___________________________________________\n",
      "\n",
      "*********************************\n",
      "\u001b[1mmaritalstatus\u001b[0m\n",
      " Married-civ-spouse       14065\n",
      " Never-married             9725\n",
      " Divorced                  4214\n",
      " Separated                  939\n",
      " Widowed                    827\n",
      " Married-spouse-absent      370\n",
      " Married-AF-spouse           21\n",
      "Name: maritalstatus, dtype: int64\n",
      "-------\n",
      " Married-civ-spouse       6990\n",
      " Never-married            4872\n",
      " Divorced                 2083\n",
      " Separated                 472\n",
      " Widowed                   450\n",
      " Married-spouse-absent     182\n",
      " Married-AF-spouse          11\n",
      "Name: maritalstatus, dtype: int64\n",
      "___________________________________________\n",
      "Number of types in train data  :  7\n",
      "Number of types in test data   :  7\n",
      "___________________________________________\n",
      "\n",
      "*********************************\n",
      "\u001b[1moccupation\u001b[0m\n",
      " Prof-specialty       4038\n",
      " Craft-repair         4030\n",
      " Exec-managerial      3992\n",
      " Adm-clerical         3721\n",
      " Sales                3584\n",
      " Other-service        3212\n",
      " Machine-op-inspct    1965\n",
      " Transport-moving     1572\n",
      " Handlers-cleaners    1350\n",
      " Farming-fishing       989\n",
      " Tech-support          912\n",
      " Protective-serv       644\n",
      " Priv-house-serv       143\n",
      " Armed-Forces            9\n",
      "Name: occupation, dtype: int64\n",
      "-------\n",
      " Exec-managerial      1992\n",
      " Craft-repair         1990\n",
      " Prof-specialty       1970\n",
      " Sales                1824\n",
      " Adm-clerical         1819\n",
      " Other-service        1596\n",
      " Machine-op-inspct    1004\n",
      " Transport-moving      744\n",
      " Handlers-cleaners     696\n",
      " Tech-support          508\n",
      " Farming-fishing       491\n",
      " Protective-serv       332\n",
      " Priv-house-serv        89\n",
      " Armed-Forces            5\n",
      "Name: occupation, dtype: int64\n",
      "___________________________________________\n",
      "Number of types in train data  :  14\n",
      "Number of types in test data   :  14\n",
      "___________________________________________\n",
      "\n",
      "*********************************\n",
      "\u001b[1mrelationship\u001b[0m\n",
      " Husband           12463\n",
      " Not-in-family      7726\n",
      " Own-child          4466\n",
      " Unmarried          3212\n",
      " Wife               1406\n",
      " Other-relative      888\n",
      "Name: relationship, dtype: int64\n",
      "-------\n",
      " Husband           6203\n",
      " Not-in-family     3976\n",
      " Own-child         2160\n",
      " Unmarried         1576\n",
      " Wife               685\n",
      " Other-relative     460\n",
      "Name: relationship, dtype: int64\n",
      "___________________________________________\n",
      "Number of types in train data  :  6\n",
      "Number of types in test data   :  6\n",
      "___________________________________________\n",
      "\n",
      "*********************************\n",
      "\u001b[1mrace\u001b[0m\n",
      " White                 25932\n",
      " Black                  2817\n",
      " Asian-Pac-Islander      895\n",
      " Amer-Indian-Eskimo      286\n",
      " Other                   231\n",
      "Name: race, dtype: int64\n",
      "-------\n",
      " White                 12970\n",
      " Black                  1411\n",
      " Asian-Pac-Islander      408\n",
      " Amer-Indian-Eskimo      149\n",
      " Other                   122\n",
      "Name: race, dtype: int64\n",
      "___________________________________________\n",
      "Number of types in train data  :  5\n",
      "Number of types in test data   :  5\n",
      "___________________________________________\n",
      "\n",
      "*********************************\n",
      "\u001b[1msex\u001b[0m\n",
      " Male      20380\n",
      " Female     9781\n",
      "Name: sex, dtype: int64\n",
      "-------\n",
      " Male      10147\n",
      " Female     4913\n",
      "Name: sex, dtype: int64\n",
      "___________________________________________\n",
      "Number of types in train data  :  2\n",
      "Number of types in test data   :  2\n",
      "___________________________________________\n",
      "\n",
      "*********************************\n",
      "\u001b[1mnative\u001b[0m\n",
      " United-States                 27504\n",
      " Mexico                          610\n",
      " Philippines                     188\n",
      " Germany                         128\n",
      " Puerto-Rico                     109\n",
      " Canada                          107\n",
      " El-Salvador                     100\n",
      " India                           100\n",
      " Cuba                             92\n",
      " England                          86\n",
      " Jamaica                          80\n",
      " South                            71\n",
      " China                            68\n",
      " Italy                            68\n",
      " Dominican-Republic               67\n",
      " Vietnam                          64\n",
      " Guatemala                        63\n",
      " Japan                            59\n",
      " Poland                           56\n",
      " Columbia                         56\n",
      " Taiwan                           42\n",
      " Iran                             42\n",
      " Haiti                            42\n",
      " Portugal                         34\n",
      " Nicaragua                        33\n",
      " Peru                             30\n",
      " Greece                           29\n",
      " Ecuador                          27\n",
      " France                           27\n",
      " Ireland                          24\n",
      " Hong                             19\n",
      " Trinadad&Tobago                  18\n",
      " Cambodia                         18\n",
      " Thailand                         17\n",
      " Laos                             17\n",
      " Yugoslavia                       16\n",
      " Outlying-US(Guam-USVI-etc)       14\n",
      " Hungary                          13\n",
      " Honduras                         12\n",
      " Scotland                         11\n",
      "Name: native, dtype: int64\n",
      "-------\n",
      " United-States                 13788\n",
      " Mexico                          293\n",
      " Philippines                      95\n",
      " Puerto-Rico                      66\n",
      " Germany                          65\n",
      " Canada                           56\n",
      " El-Salvador                      47\n",
      " India                            47\n",
      " China                            45\n",
      " Cuba                             41\n",
      " England                          33\n",
      " Italy                            32\n",
      " Japan                            30\n",
      " Dominican-Republic               30\n",
      " South                            30\n",
      " Portugal                         28\n",
      " Haiti                            27\n",
      " Columbia                         26\n",
      " Poland                           25\n",
      " Jamaica                          23\n",
      " Guatemala                        23\n",
      " Greece                           20\n",
      " Vietnam                          19\n",
      " Ecuador                          16\n",
      " Nicaragua                        15\n",
      " Peru                             15\n",
      " Iran                             14\n",
      " Taiwan                           13\n",
      " Thailand                         12\n",
      " Ireland                          12\n",
      " Hong                              9\n",
      " France                            9\n",
      " Scotland                          9\n",
      " Cambodia                          8\n",
      " Trinadad&Tobago                   8\n",
      " Outlying-US(Guam-USVI-etc)        8\n",
      " Honduras                          7\n",
      " Yugoslavia                        7\n",
      " Hungary                           5\n",
      " Laos                              4\n",
      "Name: native, dtype: int64\n",
      "___________________________________________\n",
      "Number of types in train data  :  40\n",
      "Number of types in test data   :  40\n",
      "___________________________________________\n",
      "\n",
      "*********************************\n",
      "\u001b[1mSalary\u001b[0m\n",
      " <=50K    22653\n",
      " >50K      7508\n",
      "Name: Salary, dtype: int64\n",
      "-------\n",
      " <=50K    11360\n",
      " >50K      3700\n",
      "Name: Salary, dtype: int64\n",
      "___________________________________________\n",
      "Number of types in train data  :  2\n",
      "Number of types in test data   :  2\n",
      "___________________________________________\n",
      "\n"
     ]
    }
   ],
   "source": [
    "for i in cat_df:\n",
    "    print('*********************************')\n",
    "    print('\\033[1m'+ i + '\\033[0m')\n",
    "    print(df[i].value_counts())\n",
    "    print('-------')\n",
    "    print(mf[i].value_counts())\n",
    "    print('___________________________________________')\n",
    "    print('Number of types in train data  :  ' + str(len(df[i].unique())))\n",
    "    print('Number of types in test data   :  ' + str(len(mf[i].unique())))\n",
    "    print('___________________________________________')\n",
    "    print()"
   ]
  },
  {
   "cell_type": "markdown",
   "metadata": {},
   "source": [
    " __From above data it is clear that the target value is imbalance__  \n",
    " Thier is know differnce in types of categories present in both train and test data set."
   ]
  },
  {
   "cell_type": "code",
   "execution_count": 242,
   "metadata": {
    "ExecuteTime": {
     "end_time": "2021-04-25T07:52:03.263074Z",
     "start_time": "2021-04-25T07:51:58.434110Z"
    },
    "scrolled": false
   },
   "outputs": [
    {
     "name": "stderr",
     "output_type": "stream",
     "text": [
      "C:\\ProgramData\\Anaconda3\\lib\\site-packages\\seaborn\\_decorators.py:36: FutureWarning: Pass the following variable as a keyword arg: x. From version 0.12, the only valid positional argument will be `data`, and passing other arguments without an explicit keyword will result in an error or misinterpretation.\n",
      "  warnings.warn(\n"
     ]
    },
    {
     "data": {
      "image/png": "[encoded data removed]",
      "text/plain": [
       "<Figure size 1080x360 with 1 Axes>"
      ]
     },
     "metadata": {
      "needs_background": "light"
     },
     "output_type": "display_data"
    },
    {
     "name": "stdout",
     "output_type": "stream",
     "text": [
      "\u001b[1mSub-category having the highest number of person having salary above <=50 \u001b[0m\n",
      " Private    22285\n",
      "Name: workclass, dtype: int64\n",
      "\u001b[1mSub-category having the lowest number of person having salary above <=50 \u001b[0m\n",
      " Without-pay    14\n",
      "Name: workclass, dtype: int64\n",
      "\n"
     ]
    },
    {
     "name": "stderr",
     "output_type": "stream",
     "text": [
      "C:\\ProgramData\\Anaconda3\\lib\\site-packages\\seaborn\\_decorators.py:36: FutureWarning: Pass the following variable as a keyword arg: x. From version 0.12, the only valid positional argument will be `data`, and passing other arguments without an explicit keyword will result in an error or misinterpretation.\n",
      "  warnings.warn(\n"
     ]
    },
    {
     "data": {
      "image/png": "[encoded data removed]",
      "text/plain": [
       "<Figure size 1080x360 with 1 Axes>"
      ]
     },
     "metadata": {
      "needs_background": "light"
     },
     "output_type": "display_data"
    },
    {
     "name": "stdout",
     "output_type": "stream",
     "text": [
      "\u001b[1mSub-category having the highest number of person having salary above <=50 \u001b[0m\n",
      " HS-grad    9840\n",
      "Name: education, dtype: int64\n",
      "\u001b[1mSub-category having the lowest number of person having salary above <=50 \u001b[0m\n",
      " Preschool    45\n",
      "Name: education, dtype: int64\n",
      "\n"
     ]
    },
    {
     "name": "stderr",
     "output_type": "stream",
     "text": [
      "C:\\ProgramData\\Anaconda3\\lib\\site-packages\\seaborn\\_decorators.py:36: FutureWarning: Pass the following variable as a keyword arg: x. From version 0.12, the only valid positional argument will be `data`, and passing other arguments without an explicit keyword will result in an error or misinterpretation.\n",
      "  warnings.warn(\n"
     ]
    },
    {
     "data": {
      "image/png": "[encoded data removed]",
      "text/plain": [
       "<Figure size 1080x360 with 1 Axes>"
      ]
     },
     "metadata": {
      "needs_background": "light"
     },
     "output_type": "display_data"
    },
    {
     "name": "stdout",
     "output_type": "stream",
     "text": [
      "\u001b[1mSub-category having the highest number of person having salary above <=50 \u001b[0m\n",
      " Married-civ-spouse    14065\n",
      "Name: maritalstatus, dtype: int64\n",
      "\u001b[1mSub-category having the lowest number of person having salary above <=50 \u001b[0m\n",
      " Married-AF-spouse    21\n",
      "Name: maritalstatus, dtype: int64\n",
      "\n"
     ]
    },
    {
     "name": "stderr",
     "output_type": "stream",
     "text": [
      "C:\\ProgramData\\Anaconda3\\lib\\site-packages\\seaborn\\_decorators.py:36: FutureWarning: Pass the following variable as a keyword arg: x. From version 0.12, the only valid positional argument will be `data`, and passing other arguments without an explicit keyword will result in an error or misinterpretation.\n",
      "  warnings.warn(\n"
     ]
    },
    {
     "data": {
      "image/png": "[encoded data removed]",
      "text/plain": [
       "<Figure size 1080x360 with 1 Axes>"
      ]
     },
     "metadata": {
      "needs_background": "light"
     },
     "output_type": "display_data"
    },
    {
     "name": "stdout",
     "output_type": "stream",
     "text": [
      "\u001b[1mSub-category having the highest number of person having salary above <=50 \u001b[0m\n",
      " Prof-specialty    4038\n",
      "Name: occupation, dtype: int64\n",
      "\u001b[1mSub-category having the lowest number of person having salary above <=50 \u001b[0m\n",
      " Armed-Forces    9\n",
      "Name: occupation, dtype: int64\n",
      "\n"
     ]
    },
    {
     "name": "stderr",
     "output_type": "stream",
     "text": [
      "C:\\ProgramData\\Anaconda3\\lib\\site-packages\\seaborn\\_decorators.py:36: FutureWarning: Pass the following variable as a keyword arg: x. From version 0.12, the only valid positional argument will be `data`, and passing other arguments without an explicit keyword will result in an error or misinterpretation.\n",
      "  warnings.warn(\n"
     ]
    },
    {
     "data": {
      "image/png": "[encoded data removed]",
      "text/plain": [
       "<Figure size 1080x360 with 1 Axes>"
      ]
     },
     "metadata": {
      "needs_background": "light"
     },
     "output_type": "display_data"
    },
    {
     "name": "stdout",
     "output_type": "stream",
     "text": [
      "\u001b[1mSub-category having the highest number of person having salary above <=50 \u001b[0m\n",
      " Husband    12463\n",
      "Name: relationship, dtype: int64\n",
      "\u001b[1mSub-category having the lowest number of person having salary above <=50 \u001b[0m\n",
      " Other-relative    888\n",
      "Name: relationship, dtype: int64\n",
      "\n"
     ]
    },
    {
     "name": "stderr",
     "output_type": "stream",
     "text": [
      "C:\\ProgramData\\Anaconda3\\lib\\site-packages\\seaborn\\_decorators.py:36: FutureWarning: Pass the following variable as a keyword arg: x. From version 0.12, the only valid positional argument will be `data`, and passing other arguments without an explicit keyword will result in an error or misinterpretation.\n",
      "  warnings.warn(\n"
     ]
    },
    {
     "data": {
      "image/png": "[encoded data removed]",
      "text/plain": [
       "<Figure size 1080x360 with 1 Axes>"
      ]
     },
     "metadata": {
      "needs_background": "light"
     },
     "output_type": "display_data"
    },
    {
     "name": "stdout",
     "output_type": "stream",
     "text": [
      "\u001b[1mSub-category having the highest number of person having salary above <=50 \u001b[0m\n",
      " White    25932\n",
      "Name: race, dtype: int64\n",
      "\u001b[1mSub-category having the lowest number of person having salary above <=50 \u001b[0m\n",
      " Other    231\n",
      "Name: race, dtype: int64\n",
      "\n"
     ]
    },
    {
     "name": "stderr",
     "output_type": "stream",
     "text": [
      "C:\\ProgramData\\Anaconda3\\lib\\site-packages\\seaborn\\_decorators.py:36: FutureWarning: Pass the following variable as a keyword arg: x. From version 0.12, the only valid positional argument will be `data`, and passing other arguments without an explicit keyword will result in an error or misinterpretation.\n",
      "  warnings.warn(\n"
     ]
    },
    {
     "data": {
      "image/png": "[encoded data removed]",
      "text/plain": [
       "<Figure size 1080x360 with 1 Axes>"
      ]
     },
     "metadata": {
      "needs_background": "light"
     },
     "output_type": "display_data"
    },
    {
     "name": "stdout",
     "output_type": "stream",
     "text": [
      "\u001b[1mSub-category having the highest number of person having salary above <=50 \u001b[0m\n",
      " Male    20380\n",
      "Name: sex, dtype: int64\n",
      "\u001b[1mSub-category having the lowest number of person having salary above <=50 \u001b[0m\n",
      " Female    9781\n",
      "Name: sex, dtype: int64\n",
      "\n"
     ]
    },
    {
     "name": "stderr",
     "output_type": "stream",
     "text": [
      "C:\\ProgramData\\Anaconda3\\lib\\site-packages\\seaborn\\_decorators.py:36: FutureWarning: Pass the following variable as a keyword arg: x. From version 0.12, the only valid positional argument will be `data`, and passing other arguments without an explicit keyword will result in an error or misinterpretation.\n",
      "  warnings.warn(\n"
     ]
    },
    {
     "data": {
      "image/png": "[encoded data removed]",
      "text/plain": [
       "<Figure size 1080x360 with 1 Axes>"
      ]
     },
     "metadata": {
      "needs_background": "light"
     },
     "output_type": "display_data"
    },
    {
     "name": "stdout",
     "output_type": "stream",
     "text": [
      "\u001b[1mSub-category having the highest number of person having salary above <=50 \u001b[0m\n",
      " United-States    27504\n",
      "Name: native, dtype: int64\n",
      "\u001b[1mSub-category having the lowest number of person having salary above <=50 \u001b[0m\n",
      " Scotland    11\n",
      "Name: native, dtype: int64\n",
      "\n"
     ]
    },
    {
     "name": "stderr",
     "output_type": "stream",
     "text": [
      "C:\\ProgramData\\Anaconda3\\lib\\site-packages\\seaborn\\_decorators.py:36: FutureWarning: Pass the following variable as a keyword arg: x. From version 0.12, the only valid positional argument will be `data`, and passing other arguments without an explicit keyword will result in an error or misinterpretation.\n",
      "  warnings.warn(\n"
     ]
    },
    {
     "data": {
      "image/png": "[encoded data removed]",
      "text/plain": [
       "<Figure size 1080x360 with 1 Axes>"
      ]
     },
     "metadata": {
      "needs_background": "light"
     },
     "output_type": "display_data"
    },
    {
     "name": "stdout",
     "output_type": "stream",
     "text": [
      "\u001b[1mSub-category having the highest number of person having salary above <=50 \u001b[0m\n",
      " <=50K    22653\n",
      "Name: Salary, dtype: int64\n",
      "\u001b[1mSub-category having the lowest number of person having salary above <=50 \u001b[0m\n",
      " >50K    7508\n",
      "Name: Salary, dtype: int64\n",
      "\n"
     ]
    }
   ],
   "source": [
    "for i in cat_df:\n",
    "    plt.figure(figsize=(15,5))\n",
    "    sns.countplot(df[i],hue=df['Salary'])\n",
    "    plt.show()\n",
    "    print('\\033[1m'+'Sub-category having the highest number of person having salary above <=50 ' +'\\033[0m')\n",
    "    print( df[i].value_counts().head(1))\n",
    "    print('\\033[1m'+'Sub-category having the lowest number of person having salary above <=50 ' +'\\033[0m')\n",
    "    print( df[i].value_counts().tail(1)  )\n",
    "    print()"
   ]
  },
  {
   "cell_type": "markdown",
   "metadata": {},
   "source": [
    "# Data Preprocessing"
   ]
  },
  {
   "cell_type": "markdown",
   "metadata": {},
   "source": [
    "__Label Encoding__"
   ]
  },
  {
   "cell_type": "code",
   "execution_count": 243,
   "metadata": {
    "ExecuteTime": {
     "end_time": "2021-04-25T07:52:03.271926Z",
     "start_time": "2021-04-25T07:52:03.264090Z"
    }
   },
   "outputs": [],
   "source": [
    "from sklearn.preprocessing import LabelEncoder\n",
    "le=LabelEncoder()"
   ]
  },
  {
   "cell_type": "code",
   "execution_count": 244,
   "metadata": {
    "ExecuteTime": {
     "end_time": "2021-04-25T07:52:03.594790Z",
     "start_time": "2021-04-25T07:52:03.275398Z"
    }
   },
   "outputs": [],
   "source": [
    "# Label Encoding of Traing data\n",
    "for i in cat_df:\n",
    "    df[i]=le.fit_transform(df[i])\n",
    "\n",
    "\n",
    "# Label Encoding of Test data\n",
    "for i in cat_mf:\n",
    "    mf[i]=le.fit_transform(mf[i])"
   ]
  },
  {
   "cell_type": "markdown",
   "metadata": {},
   "source": [
    "__On getting Dummies variable the accuracy of the model increased__"
   ]
  },
  {
   "cell_type": "code",
   "execution_count": 245,
   "metadata": {
    "ExecuteTime": {
     "end_time": "2021-04-25T07:52:03.715122Z",
     "start_time": "2021-04-25T07:52:03.594790Z"
    }
   },
   "outputs": [],
   "source": [
    "df = pd.get_dummies(df, columns=cat_df,drop_first=True)\n",
    "mf=pd.get_dummies(mf,columns=cat_mf,drop_first=True)"
   ]
  },
  {
   "cell_type": "markdown",
   "metadata": {},
   "source": [
    "__MinMaxscaler__"
   ]
  },
  {
   "cell_type": "code",
   "execution_count": 246,
   "metadata": {
    "ExecuteTime": {
     "end_time": "2021-04-25T07:52:03.735309Z",
     "start_time": "2021-04-25T07:52:03.715122Z"
    }
   },
   "outputs": [],
   "source": [
    "from sklearn.preprocessing import MinMaxScaler\n",
    "mms=MinMaxScaler()"
   ]
  },
  {
   "cell_type": "code",
   "execution_count": 247,
   "metadata": {
    "ExecuteTime": {
     "end_time": "2021-04-25T07:52:04.015260Z",
     "start_time": "2021-04-25T07:52:03.738315Z"
    }
   },
   "outputs": [],
   "source": [
    "# MinMaxScaler on Traing data\n",
    "df.loc[:,num_df]=mms.fit_transform(df.loc[:,num_df])\n",
    "\n",
    "\n",
    "# MinMaxScaler on of Test data\n",
    "mf.loc[:,num_mf]=mms.fit_transform(mf.loc[:,num_mf])"
   ]
  },
  {
   "cell_type": "markdown",
   "metadata": {},
   "source": [
    "__Tried MinMaxScaler But it reduced the accuracy of our model__"
   ]
  },
  {
   "cell_type": "code",
   "execution_count": 248,
   "metadata": {
    "ExecuteTime": {
     "end_time": "2021-04-25T07:52:04.078270Z",
     "start_time": "2021-04-25T07:52:04.015260Z"
    }
   },
   "outputs": [
    {
     "data": {
      "text/html": [
       "<div>\n",
       "<style scoped>\n",
       "    .dataframe tbody tr th:only-of-type {\n",
       "        vertical-align: middle;\n",
       "    }\n",
       "\n",
       "    .dataframe tbody tr th {\n",
       "        vertical-align: top;\n",
       "    }\n",
       "\n",
       "    .dataframe thead th {\n",
       "        text-align: right;\n",
       "    }\n",
       "</style>\n",
       "<table border=\"1\" class=\"dataframe\">\n",
       "  <thead>\n",
       "    <tr style=\"text-align: right;\">\n",
       "      <th></th>\n",
       "      <th>age</th>\n",
       "      <th>educationno</th>\n",
       "      <th>capitalgain</th>\n",
       "      <th>capitalloss</th>\n",
       "      <th>hoursperweek</th>\n",
       "      <th>workclass_1</th>\n",
       "      <th>workclass_2</th>\n",
       "      <th>workclass_3</th>\n",
       "      <th>workclass_4</th>\n",
       "      <th>workclass_5</th>\n",
       "      <th>...</th>\n",
       "      <th>native_31</th>\n",
       "      <th>native_32</th>\n",
       "      <th>native_33</th>\n",
       "      <th>native_34</th>\n",
       "      <th>native_35</th>\n",
       "      <th>native_36</th>\n",
       "      <th>native_37</th>\n",
       "      <th>native_38</th>\n",
       "      <th>native_39</th>\n",
       "      <th>Salary_1</th>\n",
       "    </tr>\n",
       "  </thead>\n",
       "  <tbody>\n",
       "    <tr>\n",
       "      <th>0</th>\n",
       "      <td>0.301370</td>\n",
       "      <td>0.800000</td>\n",
       "      <td>0.02174</td>\n",
       "      <td>0.0</td>\n",
       "      <td>0.397959</td>\n",
       "      <td>0</td>\n",
       "      <td>0</td>\n",
       "      <td>0</td>\n",
       "      <td>0</td>\n",
       "      <td>1</td>\n",
       "      <td>...</td>\n",
       "      <td>0</td>\n",
       "      <td>0</td>\n",
       "      <td>0</td>\n",
       "      <td>0</td>\n",
       "      <td>0</td>\n",
       "      <td>0</td>\n",
       "      <td>1</td>\n",
       "      <td>0</td>\n",
       "      <td>0</td>\n",
       "      <td>0</td>\n",
       "    </tr>\n",
       "    <tr>\n",
       "      <th>1</th>\n",
       "      <td>0.452055</td>\n",
       "      <td>0.800000</td>\n",
       "      <td>0.00000</td>\n",
       "      <td>0.0</td>\n",
       "      <td>0.122449</td>\n",
       "      <td>0</td>\n",
       "      <td>0</td>\n",
       "      <td>0</td>\n",
       "      <td>1</td>\n",
       "      <td>0</td>\n",
       "      <td>...</td>\n",
       "      <td>0</td>\n",
       "      <td>0</td>\n",
       "      <td>0</td>\n",
       "      <td>0</td>\n",
       "      <td>0</td>\n",
       "      <td>0</td>\n",
       "      <td>1</td>\n",
       "      <td>0</td>\n",
       "      <td>0</td>\n",
       "      <td>0</td>\n",
       "    </tr>\n",
       "    <tr>\n",
       "      <th>2</th>\n",
       "      <td>0.287671</td>\n",
       "      <td>0.533333</td>\n",
       "      <td>0.00000</td>\n",
       "      <td>0.0</td>\n",
       "      <td>0.397959</td>\n",
       "      <td>0</td>\n",
       "      <td>1</td>\n",
       "      <td>0</td>\n",
       "      <td>0</td>\n",
       "      <td>0</td>\n",
       "      <td>...</td>\n",
       "      <td>0</td>\n",
       "      <td>0</td>\n",
       "      <td>0</td>\n",
       "      <td>0</td>\n",
       "      <td>0</td>\n",
       "      <td>0</td>\n",
       "      <td>1</td>\n",
       "      <td>0</td>\n",
       "      <td>0</td>\n",
       "      <td>0</td>\n",
       "    </tr>\n",
       "    <tr>\n",
       "      <th>3</th>\n",
       "      <td>0.493151</td>\n",
       "      <td>0.400000</td>\n",
       "      <td>0.00000</td>\n",
       "      <td>0.0</td>\n",
       "      <td>0.397959</td>\n",
       "      <td>0</td>\n",
       "      <td>1</td>\n",
       "      <td>0</td>\n",
       "      <td>0</td>\n",
       "      <td>0</td>\n",
       "      <td>...</td>\n",
       "      <td>0</td>\n",
       "      <td>0</td>\n",
       "      <td>0</td>\n",
       "      <td>0</td>\n",
       "      <td>0</td>\n",
       "      <td>0</td>\n",
       "      <td>1</td>\n",
       "      <td>0</td>\n",
       "      <td>0</td>\n",
       "      <td>0</td>\n",
       "    </tr>\n",
       "    <tr>\n",
       "      <th>4</th>\n",
       "      <td>0.150685</td>\n",
       "      <td>0.800000</td>\n",
       "      <td>0.00000</td>\n",
       "      <td>0.0</td>\n",
       "      <td>0.397959</td>\n",
       "      <td>0</td>\n",
       "      <td>1</td>\n",
       "      <td>0</td>\n",
       "      <td>0</td>\n",
       "      <td>0</td>\n",
       "      <td>...</td>\n",
       "      <td>0</td>\n",
       "      <td>0</td>\n",
       "      <td>0</td>\n",
       "      <td>0</td>\n",
       "      <td>0</td>\n",
       "      <td>0</td>\n",
       "      <td>0</td>\n",
       "      <td>0</td>\n",
       "      <td>0</td>\n",
       "      <td>0</td>\n",
       "    </tr>\n",
       "  </tbody>\n",
       "</table>\n",
       "<p>5 rows × 95 columns</p>\n",
       "</div>"
      ],
      "text/plain": [
       "        age  educationno  capitalgain  capitalloss  hoursperweek  workclass_1  \\\n",
       "0  0.301370     0.800000      0.02174          0.0      0.397959            0   \n",
       "1  0.452055     0.800000      0.00000          0.0      0.122449            0   \n",
       "2  0.287671     0.533333      0.00000          0.0      0.397959            0   \n",
       "3  0.493151     0.400000      0.00000          0.0      0.397959            0   \n",
       "4  0.150685     0.800000      0.00000          0.0      0.397959            0   \n",
       "\n",
       "   workclass_2  workclass_3  workclass_4  workclass_5  ...  native_31  \\\n",
       "0            0            0            0            1  ...          0   \n",
       "1            0            0            1            0  ...          0   \n",
       "2            1            0            0            0  ...          0   \n",
       "3            1            0            0            0  ...          0   \n",
       "4            1            0            0            0  ...          0   \n",
       "\n",
       "   native_32  native_33  native_34  native_35  native_36  native_37  \\\n",
       "0          0          0          0          0          0          1   \n",
       "1          0          0          0          0          0          1   \n",
       "2          0          0          0          0          0          1   \n",
       "3          0          0          0          0          0          1   \n",
       "4          0          0          0          0          0          0   \n",
       "\n",
       "   native_38  native_39  Salary_1  \n",
       "0          0          0         0  \n",
       "1          0          0         0  \n",
       "2          0          0         0  \n",
       "3          0          0         0  \n",
       "4          0          0         0  \n",
       "\n",
       "[5 rows x 95 columns]"
      ]
     },
     "execution_count": 248,
     "metadata": {},
     "output_type": "execute_result"
    }
   ],
   "source": [
    "df.head()"
   ]
  },
  {
   "cell_type": "code",
   "execution_count": 249,
   "metadata": {
    "ExecuteTime": {
     "end_time": "2021-04-25T07:52:04.195033Z",
     "start_time": "2021-04-25T07:52:04.078270Z"
    }
   },
   "outputs": [
    {
     "data": {
      "text/html": [
       "<div>\n",
       "<style scoped>\n",
       "    .dataframe tbody tr th:only-of-type {\n",
       "        vertical-align: middle;\n",
       "    }\n",
       "\n",
       "    .dataframe tbody tr th {\n",
       "        vertical-align: top;\n",
       "    }\n",
       "\n",
       "    .dataframe thead th {\n",
       "        text-align: right;\n",
       "    }\n",
       "</style>\n",
       "<table border=\"1\" class=\"dataframe\">\n",
       "  <thead>\n",
       "    <tr style=\"text-align: right;\">\n",
       "      <th></th>\n",
       "      <th>age</th>\n",
       "      <th>educationno</th>\n",
       "      <th>capitalgain</th>\n",
       "      <th>capitalloss</th>\n",
       "      <th>hoursperweek</th>\n",
       "      <th>workclass_1</th>\n",
       "      <th>workclass_2</th>\n",
       "      <th>workclass_3</th>\n",
       "      <th>workclass_4</th>\n",
       "      <th>workclass_5</th>\n",
       "      <th>...</th>\n",
       "      <th>native_31</th>\n",
       "      <th>native_32</th>\n",
       "      <th>native_33</th>\n",
       "      <th>native_34</th>\n",
       "      <th>native_35</th>\n",
       "      <th>native_36</th>\n",
       "      <th>native_37</th>\n",
       "      <th>native_38</th>\n",
       "      <th>native_39</th>\n",
       "      <th>Salary_1</th>\n",
       "    </tr>\n",
       "  </thead>\n",
       "  <tbody>\n",
       "    <tr>\n",
       "      <th>0</th>\n",
       "      <td>0.109589</td>\n",
       "      <td>0.400000</td>\n",
       "      <td>0.000000</td>\n",
       "      <td>0.0</td>\n",
       "      <td>0.397959</td>\n",
       "      <td>0</td>\n",
       "      <td>1</td>\n",
       "      <td>0</td>\n",
       "      <td>0</td>\n",
       "      <td>0</td>\n",
       "      <td>...</td>\n",
       "      <td>0</td>\n",
       "      <td>0</td>\n",
       "      <td>0</td>\n",
       "      <td>0</td>\n",
       "      <td>0</td>\n",
       "      <td>0</td>\n",
       "      <td>1</td>\n",
       "      <td>0</td>\n",
       "      <td>0</td>\n",
       "      <td>0</td>\n",
       "    </tr>\n",
       "    <tr>\n",
       "      <th>1</th>\n",
       "      <td>0.287671</td>\n",
       "      <td>0.533333</td>\n",
       "      <td>0.000000</td>\n",
       "      <td>0.0</td>\n",
       "      <td>0.500000</td>\n",
       "      <td>0</td>\n",
       "      <td>1</td>\n",
       "      <td>0</td>\n",
       "      <td>0</td>\n",
       "      <td>0</td>\n",
       "      <td>...</td>\n",
       "      <td>0</td>\n",
       "      <td>0</td>\n",
       "      <td>0</td>\n",
       "      <td>0</td>\n",
       "      <td>0</td>\n",
       "      <td>0</td>\n",
       "      <td>1</td>\n",
       "      <td>0</td>\n",
       "      <td>0</td>\n",
       "      <td>0</td>\n",
       "    </tr>\n",
       "    <tr>\n",
       "      <th>2</th>\n",
       "      <td>0.150685</td>\n",
       "      <td>0.733333</td>\n",
       "      <td>0.000000</td>\n",
       "      <td>0.0</td>\n",
       "      <td>0.397959</td>\n",
       "      <td>1</td>\n",
       "      <td>0</td>\n",
       "      <td>0</td>\n",
       "      <td>0</td>\n",
       "      <td>0</td>\n",
       "      <td>...</td>\n",
       "      <td>0</td>\n",
       "      <td>0</td>\n",
       "      <td>0</td>\n",
       "      <td>0</td>\n",
       "      <td>0</td>\n",
       "      <td>0</td>\n",
       "      <td>1</td>\n",
       "      <td>0</td>\n",
       "      <td>0</td>\n",
       "      <td>1</td>\n",
       "    </tr>\n",
       "    <tr>\n",
       "      <th>3</th>\n",
       "      <td>0.369863</td>\n",
       "      <td>0.600000</td>\n",
       "      <td>0.076881</td>\n",
       "      <td>0.0</td>\n",
       "      <td>0.397959</td>\n",
       "      <td>0</td>\n",
       "      <td>1</td>\n",
       "      <td>0</td>\n",
       "      <td>0</td>\n",
       "      <td>0</td>\n",
       "      <td>...</td>\n",
       "      <td>0</td>\n",
       "      <td>0</td>\n",
       "      <td>0</td>\n",
       "      <td>0</td>\n",
       "      <td>0</td>\n",
       "      <td>0</td>\n",
       "      <td>1</td>\n",
       "      <td>0</td>\n",
       "      <td>0</td>\n",
       "      <td>1</td>\n",
       "    </tr>\n",
       "    <tr>\n",
       "      <th>4</th>\n",
       "      <td>0.232877</td>\n",
       "      <td>0.333333</td>\n",
       "      <td>0.000000</td>\n",
       "      <td>0.0</td>\n",
       "      <td>0.295918</td>\n",
       "      <td>0</td>\n",
       "      <td>1</td>\n",
       "      <td>0</td>\n",
       "      <td>0</td>\n",
       "      <td>0</td>\n",
       "      <td>...</td>\n",
       "      <td>0</td>\n",
       "      <td>0</td>\n",
       "      <td>0</td>\n",
       "      <td>0</td>\n",
       "      <td>0</td>\n",
       "      <td>0</td>\n",
       "      <td>1</td>\n",
       "      <td>0</td>\n",
       "      <td>0</td>\n",
       "      <td>0</td>\n",
       "    </tr>\n",
       "  </tbody>\n",
       "</table>\n",
       "<p>5 rows × 95 columns</p>\n",
       "</div>"
      ],
      "text/plain": [
       "        age  educationno  capitalgain  capitalloss  hoursperweek  workclass_1  \\\n",
       "0  0.109589     0.400000     0.000000          0.0      0.397959            0   \n",
       "1  0.287671     0.533333     0.000000          0.0      0.500000            0   \n",
       "2  0.150685     0.733333     0.000000          0.0      0.397959            1   \n",
       "3  0.369863     0.600000     0.076881          0.0      0.397959            0   \n",
       "4  0.232877     0.333333     0.000000          0.0      0.295918            0   \n",
       "\n",
       "   workclass_2  workclass_3  workclass_4  workclass_5  ...  native_31  \\\n",
       "0            1            0            0            0  ...          0   \n",
       "1            1            0            0            0  ...          0   \n",
       "2            0            0            0            0  ...          0   \n",
       "3            1            0            0            0  ...          0   \n",
       "4            1            0            0            0  ...          0   \n",
       "\n",
       "   native_32  native_33  native_34  native_35  native_36  native_37  \\\n",
       "0          0          0          0          0          0          1   \n",
       "1          0          0          0          0          0          1   \n",
       "2          0          0          0          0          0          1   \n",
       "3          0          0          0          0          0          1   \n",
       "4          0          0          0          0          0          1   \n",
       "\n",
       "   native_38  native_39  Salary_1  \n",
       "0          0          0         0  \n",
       "1          0          0         0  \n",
       "2          0          0         1  \n",
       "3          0          0         1  \n",
       "4          0          0         0  \n",
       "\n",
       "[5 rows x 95 columns]"
      ]
     },
     "execution_count": 249,
     "metadata": {},
     "output_type": "execute_result"
    }
   ],
   "source": [
    "mf.head()"
   ]
  },
  {
   "cell_type": "code",
   "execution_count": 250,
   "metadata": {
    "ExecuteTime": {
     "end_time": "2021-04-25T07:52:04.306030Z",
     "start_time": "2021-04-25T07:52:04.201538Z"
    }
   },
   "outputs": [],
   "source": [
    "xtrain=df.iloc[:,:-1]\n",
    "ytrain=df.iloc[:,-1]"
   ]
  },
  {
   "cell_type": "code",
   "execution_count": 251,
   "metadata": {
    "ExecuteTime": {
     "end_time": "2021-04-25T07:52:04.434286Z",
     "start_time": "2021-04-25T07:52:04.308488Z"
    }
   },
   "outputs": [],
   "source": [
    "xtest=mf.iloc[:,:-1]\n",
    "ytest=mf.iloc[:,-1]"
   ]
  },
  {
   "cell_type": "markdown",
   "metadata": {
    "ExecuteTime": {
     "end_time": "2021-04-25T07:07:36.520086Z",
     "start_time": "2021-04-25T07:07:36.502541Z"
    }
   },
   "source": [
    "__Balancing Imbalance data for only Training dataset__"
   ]
  },
  {
   "cell_type": "code",
   "execution_count": 252,
   "metadata": {
    "ExecuteTime": {
     "end_time": "2021-04-25T07:52:04.885165Z",
     "start_time": "2021-04-25T07:52:04.439287Z"
    }
   },
   "outputs": [],
   "source": [
    "## RandomOverSampler to handle imbalanced data\n",
    "\n",
    "from collections import Counter\n",
    "from imblearn.over_sampling import RandomOverSampler\n",
    "os =  RandomOverSampler()\n",
    "xtrain_new, ytrain_new = os.fit_sample(xtrain, ytrain)"
   ]
  },
  {
   "cell_type": "code",
   "execution_count": 253,
   "metadata": {
    "ExecuteTime": {
     "end_time": "2021-04-25T07:52:04.896140Z",
     "start_time": "2021-04-25T07:52:04.885165Z"
    }
   },
   "outputs": [
    {
     "data": {
      "text/plain": [
       "((30161, 94), (30161,))"
      ]
     },
     "execution_count": 253,
     "metadata": {},
     "output_type": "execute_result"
    }
   ],
   "source": [
    "xtrain.shape,ytrain.shape"
   ]
  },
  {
   "cell_type": "code",
   "execution_count": 254,
   "metadata": {
    "ExecuteTime": {
     "end_time": "2021-04-25T07:52:05.040618Z",
     "start_time": "2021-04-25T07:52:04.903145Z"
    }
   },
   "outputs": [
    {
     "data": {
      "text/plain": [
       "((45306, 94), (45306,))"
      ]
     },
     "execution_count": 254,
     "metadata": {},
     "output_type": "execute_result"
    }
   ],
   "source": [
    "xtrain_new.shape,ytrain_new.shape"
   ]
  },
  {
   "cell_type": "code",
   "execution_count": 255,
   "metadata": {
    "ExecuteTime": {
     "end_time": "2021-04-25T07:52:05.235215Z",
     "start_time": "2021-04-25T07:52:05.046604Z"
    }
   },
   "outputs": [
    {
     "name": "stdout",
     "output_type": "stream",
     "text": [
      "Original dataset shape Counter({0: 22653, 1: 7508})\n",
      "Resampled dataset shape Counter({0: 22653, 1: 22653})\n"
     ]
    }
   ],
   "source": [
    "print('Original dataset shape {}'.format(Counter(ytrain)))\n",
    "print('Resampled dataset shape {}'.format(Counter(ytrain_new)))"
   ]
  },
  {
   "cell_type": "markdown",
   "metadata": {},
   "source": [
    "__Tried Oversampling the data But the accuracy of the model decreased.__"
   ]
  },
  {
   "cell_type": "markdown",
   "metadata": {},
   "source": [
    "# Naive Bayes Model"
   ]
  },
  {
   "cell_type": "code",
   "execution_count": 256,
   "metadata": {
    "ExecuteTime": {
     "end_time": "2021-04-25T07:52:43.303586Z",
     "start_time": "2021-04-25T07:52:05.246223Z"
    }
   },
   "outputs": [
    {
     "name": "stderr",
     "output_type": "stream",
     "text": [
      "C:\\ProgramData\\Anaconda3\\lib\\site-packages\\sklearn\\model_selection\\_split.py:293: FutureWarning: Setting a random_state has no effect since shuffle is False. This will raise an error in 0.24. You should leave random_state to its default (None), or set shuffle=True.\n",
      "  warnings.warn(\n"
     ]
    },
    {
     "name": "stdout",
     "output_type": "stream",
     "text": [
      "0.8182093358677486\n"
     ]
    }
   ],
   "source": [
    "from sklearn.model_selection import KFold\n",
    "from sklearn.model_selection import cross_val_score\n",
    "from sklearn.ensemble import BaggingClassifier\n",
    "\n",
    "seed = 7\n",
    "\n",
    "kfold = KFold(n_splits=10, random_state=seed)\n",
    "cart =MB()\n",
    "num_trees = 100\n",
    "model = BaggingClassifier(base_estimator=cart, n_estimators=num_trees, random_state=seed)\n",
    "results = cross_val_score(model, xtrain, ytrain, cv=kfold)\n",
    "print(results.mean())"
   ]
  },
  {
   "cell_type": "markdown",
   "metadata": {},
   "source": [
    "__Using Balanced data set__"
   ]
  },
  {
   "cell_type": "code",
   "execution_count": 257,
   "metadata": {
    "ExecuteTime": {
     "end_time": "2021-04-25T07:52:43.557965Z",
     "start_time": "2021-04-25T07:52:43.307589Z"
    }
   },
   "outputs": [
    {
     "name": "stdout",
     "output_type": "stream",
     "text": [
      "0.792301240453803\n",
      "0.7666002656042497\n",
      "[[8423 2937]\n",
      " [ 578 3122]]\n",
      "              precision    recall  f1-score   support\n",
      "\n",
      "           0       0.94      0.74      0.83     11360\n",
      "           1       0.52      0.84      0.64      3700\n",
      "\n",
      "    accuracy                           0.77     15060\n",
      "   macro avg       0.73      0.79      0.73     15060\n",
      "weighted avg       0.83      0.77      0.78     15060\n",
      "\n"
     ]
    }
   ],
   "source": [
    "# Preparing a naive bayes model on training data set \n",
    "from sklearn.metrics import confusion_matrix,classification_report\n",
    "from sklearn.naive_bayes import MultinomialNB as MB\n",
    "from sklearn.naive_bayes import GaussianNB as GB\n",
    "\n",
    "# Multinomial Naive Bayes\n",
    "classifier_mb = MB()\n",
    "classifier_mb.fit(xtrain_new,ytrain_new)\n",
    "\n",
    "train_pred_m = classifier_mb.predict(xtrain_new)\n",
    "accuracy_train_m = np.mean(train_pred_m==ytrain_new)\n",
    "print(accuracy_train_m)\n",
    "\n",
    "test_pred_m = classifier_mb.predict(xtest)\n",
    "accuracy_test_m = np.mean(test_pred_m==ytest) \n",
    "print(accuracy_test_m)\n",
    "\n",
    "print(confusion_matrix(ytest,test_pred_m))\n",
    "print(classification_report(ytest,test_pred_m))"
   ]
  },
  {
   "cell_type": "markdown",
   "metadata": {},
   "source": [
    "__Using Imbalanced data set__"
   ]
  },
  {
   "cell_type": "code",
   "execution_count": 258,
   "metadata": {
    "ExecuteTime": {
     "end_time": "2021-04-25T07:52:43.772165Z",
     "start_time": "2021-04-25T07:52:43.557965Z"
    }
   },
   "outputs": [
    {
     "name": "stdout",
     "output_type": "stream",
     "text": [
      "0.8188057425151686\n",
      "0.8185922974767597\n",
      "[[9952 1408]\n",
      " [1324 2376]]\n",
      "              precision    recall  f1-score   support\n",
      "\n",
      "           0       0.88      0.88      0.88     11360\n",
      "           1       0.63      0.64      0.63      3700\n",
      "\n",
      "    accuracy                           0.82     15060\n",
      "   macro avg       0.76      0.76      0.76     15060\n",
      "weighted avg       0.82      0.82      0.82     15060\n",
      "\n"
     ]
    }
   ],
   "source": [
    "# Preparing a naive bayes model on training data set \n",
    "from sklearn.metrics import confusion_matrix,classification_report\n",
    "from sklearn.naive_bayes import MultinomialNB as MB\n",
    "from sklearn.naive_bayes import GaussianNB as GB\n",
    "\n",
    "# Multinomial Naive Bayes\n",
    "classifier_mb = MB()\n",
    "classifier_mb.fit(xtrain,ytrain)\n",
    "\n",
    "train_pred_m = classifier_mb.predict(xtrain)\n",
    "accuracy_train_m = np.mean(train_pred_m==ytrain)\n",
    "print(accuracy_train_m)\n",
    "\n",
    "test_pred_m = classifier_mb.predict(xtest)\n",
    "accuracy_test_m = np.mean(test_pred_m==ytest) \n",
    "print(accuracy_test_m)\n",
    "\n",
    "print(confusion_matrix(ytest,test_pred_m))\n",
    "print(classification_report(ytest,test_pred_m))"
   ]
  },
  {
   "cell_type": "markdown",
   "metadata": {
    "ExecuteTime": {
     "end_time": "2021-04-25T07:54:39.885110Z",
     "start_time": "2021-04-25T07:54:39.875102Z"
    }
   },
   "source": [
    "# Multinomial Naive bayes model is having the highest accuracy among all the Model when the data is Standardized"
   ]
  },
  {
   "cell_type": "markdown",
   "metadata": {
    "ExecuteTime": {
     "end_time": "2021-04-25T07:47:14.069237Z",
     "start_time": "2021-04-25T07:47:14.052898Z"
    }
   },
   "source": [
    "__Using Gaussian Naive bayes__"
   ]
  },
  {
   "cell_type": "code",
   "execution_count": 259,
   "metadata": {
    "ExecuteTime": {
     "end_time": "2021-04-25T07:52:44.202338Z",
     "start_time": "2021-04-25T07:52:43.772165Z"
    }
   },
   "outputs": [
    {
     "name": "stdout",
     "output_type": "stream",
     "text": [
      "[[4933 6427]\n",
      " [ 219 3481]]\n",
      "              precision    recall  f1-score   support\n",
      "\n",
      "           0       0.96      0.43      0.60     11360\n",
      "           1       0.35      0.94      0.51      3700\n",
      "\n",
      "    accuracy                           0.56     15060\n",
      "   macro avg       0.65      0.69      0.55     15060\n",
      "weighted avg       0.81      0.56      0.58     15060\n",
      "\n"
     ]
    }
   ],
   "source": [
    "# Gaussian Naive Bayes \n",
    "classifier_gb = GB()\n",
    "classifier_gb.fit(xtrain,ytrain.values) # we need to convert tfidf into array format which is compatible for gaussian naive bayes\n",
    "train_pred_g = classifier_gb.predict(xtrain)\n",
    "accuracy_train_g = np.mean(train_pred_g==ytrain) \n",
    "\n",
    "test_pred_g = classifier_gb.predict(xtest)\n",
    "accuracy_test_g = np.mean(test_pred_g==ytest)\n",
    "\n",
    "print(confusion_matrix(ytest,test_pred_g))\n",
    "print(classification_report(ytest,test_pred_g))"
   ]
  },
  {
   "cell_type": "code",
   "execution_count": 260,
   "metadata": {
    "ExecuteTime": {
     "end_time": "2021-04-25T07:52:44.218824Z",
     "start_time": "2021-04-25T07:52:44.202338Z"
    }
   },
   "outputs": [
    {
     "data": {
      "text/plain": [
       "(0.561221444912304, 0.5586985391766268)"
      ]
     },
     "execution_count": 260,
     "metadata": {},
     "output_type": "execute_result"
    }
   ],
   "source": [
    "accuracy_train_g,accuracy_test_g"
   ]
  },
  {
   "cell_type": "markdown",
   "metadata": {},
   "source": [
    "# Gaussian Naive bayes model is having the highest accuracy among all the Model when the data is not Standardized"
   ]
  },
  {
   "cell_type": "code",
   "execution_count": null,
   "metadata": {},
   "outputs": [],
   "source": []
  }
 ],
 "metadata": {
  "kernelspec": {
   "display_name": "Python 3",
   "language": "python",
   "name": "python3"
  },
  "language_info": {
   "codemirror_mode": {
    "name": "ipython",
    "version": 3
   },
   "file_extension": ".py",
   "mimetype": "text/x-python",
   "name": "python",
   "nbconvert_exporter": "python",
   "pygments_lexer": "ipython3",
   "version": "3.8.5"
  },
  "latex_envs": {
   "LaTeX_envs_menu_present": true,
   "autoclose": false,
   "autocomplete": true,
   "bibliofile": "biblio.bib",
   "cite_by": "apalike",
   "current_citInitial": 1,
   "eqLabelWithNumbers": true,
   "eqNumInitial": 1,
   "hotkeys": {
    "equation": "Ctrl-E",
    "itemize": "Ctrl-I"
   },
   "labels_anchors": false,
   "latex_user_defs": false,
   "report_style_numbering": false,
   "user_envs_cfg": false
  }
 },
 "nbformat": 4,
 "nbformat_minor": 4
}
